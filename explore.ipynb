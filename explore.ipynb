{
 "cells": [
  {
   "cell_type": "code",
   "execution_count": 20,
   "metadata": {},
   "outputs": [
    {
     "name": "stdout",
     "output_type": "stream",
     "text": [
      "Requirement already satisfied: torch==2.1.2 in /Users/newcomputer/Library/CloudStorage/OneDrive-VNU-HCMUS/Thesis/NegCafe/source/Beauty_CAFE/thesis_venv/lib/python3.11/site-packages (from -r requirements.txt (line 1)) (2.1.2)\n",
      "Collecting numpy==1.24.0rc1 (from -r requirements.txt (line 2))\n",
      "  Downloading numpy-1.24.0rc1-cp311-cp311-macosx_11_0_arm64.whl.metadata (5.6 kB)\n",
      "Requirement already satisfied: tqdm in /Users/newcomputer/Library/CloudStorage/OneDrive-VNU-HCMUS/Thesis/NegCafe/source/Beauty_CAFE/thesis_venv/lib/python3.11/site-packages (from -r requirements.txt (line 3)) (4.66.5)\n",
      "Requirement already satisfied: scipy in /Users/newcomputer/Library/CloudStorage/OneDrive-VNU-HCMUS/Thesis/NegCafe/source/Beauty_CAFE/thesis_venv/lib/python3.11/site-packages (from -r requirements.txt (line 4)) (1.14.1)\n",
      "Requirement already satisfied: scikit-learn in /Users/newcomputer/Library/CloudStorage/OneDrive-VNU-HCMUS/Thesis/NegCafe/source/Beauty_CAFE/thesis_venv/lib/python3.11/site-packages (from -r requirements.txt (line 5)) (1.5.1)\n",
      "Requirement already satisfied: filelock in /Users/newcomputer/Library/CloudStorage/OneDrive-VNU-HCMUS/Thesis/NegCafe/source/Beauty_CAFE/thesis_venv/lib/python3.11/site-packages (from torch==2.1.2->-r requirements.txt (line 1)) (3.15.4)\n",
      "Requirement already satisfied: typing-extensions in /Users/newcomputer/Library/CloudStorage/OneDrive-VNU-HCMUS/Thesis/NegCafe/source/Beauty_CAFE/thesis_venv/lib/python3.11/site-packages (from torch==2.1.2->-r requirements.txt (line 1)) (4.12.2)\n",
      "Requirement already satisfied: sympy in /Users/newcomputer/Library/CloudStorage/OneDrive-VNU-HCMUS/Thesis/NegCafe/source/Beauty_CAFE/thesis_venv/lib/python3.11/site-packages (from torch==2.1.2->-r requirements.txt (line 1)) (1.13.2)\n",
      "Requirement already satisfied: networkx in /Users/newcomputer/Library/CloudStorage/OneDrive-VNU-HCMUS/Thesis/NegCafe/source/Beauty_CAFE/thesis_venv/lib/python3.11/site-packages (from torch==2.1.2->-r requirements.txt (line 1)) (3.3)\n",
      "Requirement already satisfied: jinja2 in /Users/newcomputer/Library/CloudStorage/OneDrive-VNU-HCMUS/Thesis/NegCafe/source/Beauty_CAFE/thesis_venv/lib/python3.11/site-packages (from torch==2.1.2->-r requirements.txt (line 1)) (3.1.4)\n",
      "Requirement already satisfied: fsspec in /Users/newcomputer/Library/CloudStorage/OneDrive-VNU-HCMUS/Thesis/NegCafe/source/Beauty_CAFE/thesis_venv/lib/python3.11/site-packages (from torch==2.1.2->-r requirements.txt (line 1)) (2024.6.1)\n",
      "Requirement already satisfied: joblib>=1.2.0 in /Users/newcomputer/Library/CloudStorage/OneDrive-VNU-HCMUS/Thesis/NegCafe/source/Beauty_CAFE/thesis_venv/lib/python3.11/site-packages (from scikit-learn->-r requirements.txt (line 5)) (1.4.2)\n",
      "Requirement already satisfied: threadpoolctl>=3.1.0 in /Users/newcomputer/Library/CloudStorage/OneDrive-VNU-HCMUS/Thesis/NegCafe/source/Beauty_CAFE/thesis_venv/lib/python3.11/site-packages (from scikit-learn->-r requirements.txt (line 5)) (3.5.0)\n",
      "Requirement already satisfied: MarkupSafe>=2.0 in /Users/newcomputer/Library/CloudStorage/OneDrive-VNU-HCMUS/Thesis/NegCafe/source/Beauty_CAFE/thesis_venv/lib/python3.11/site-packages (from jinja2->torch==2.1.2->-r requirements.txt (line 1)) (2.1.5)\n",
      "Requirement already satisfied: mpmath<1.4,>=1.1.0 in /Users/newcomputer/Library/CloudStorage/OneDrive-VNU-HCMUS/Thesis/NegCafe/source/Beauty_CAFE/thesis_venv/lib/python3.11/site-packages (from sympy->torch==2.1.2->-r requirements.txt (line 1)) (1.3.0)\n",
      "Downloading numpy-1.24.0rc1-cp311-cp311-macosx_11_0_arm64.whl (13.8 MB)\n",
      "\u001b[2K   \u001b[90m━━━━━━━━━━━━━━━━━━━━━━━━━━━━━━━━━━━━━━━━\u001b[0m \u001b[32m13.8/13.8 MB\u001b[0m \u001b[31m1.8 MB/s\u001b[0m eta \u001b[36m0:00:00\u001b[0ma \u001b[36m0:00:01\u001b[0m\n",
      "\u001b[?25hInstalling collected packages: numpy\n",
      "  Attempting uninstall: numpy\n",
      "    Found existing installation: numpy 2.0.0\n",
      "    Uninstalling numpy-2.0.0:\n",
      "      Successfully uninstalled numpy-2.0.0\n",
      "Successfully installed numpy-1.24.0rc1\n"
     ]
    }
   ],
   "source": [
    "!pip install -r requirements.txt"
   ]
  },
  {
   "cell_type": "code",
   "execution_count": 1,
   "metadata": {},
   "outputs": [],
   "source": [
    "from __future__ import absolute_import, division, print_function\n",
    "\n",
    "import os\n",
    "import sys\n",
    "import argparse\n",
    "import numpy as np\n",
    "import pickle\n",
    "from tqdm import tqdm\n",
    "import logging\n",
    "import logging.handlers\n",
    "import torch\n",
    "import torch.nn as nn\n",
    "from torch.nn import functional as F\n",
    "import torch.optim as optim\n",
    "# from tensorboardX import SummaryWriter\n",
    "\n",
    "from my_knowledge_graph import *\n",
    "from data_utils import OnlinePathLoader, OnlinePathLoaderWithMPSplit, KGMask\n",
    "from symbolic_model import EntityEmbeddingModel, SymbolicNetwork, create_symbolic_model\n",
    "import utils"
   ]
  },
  {
   "cell_type": "code",
   "execution_count": 29,
   "metadata": {},
   "outputs": [
    {
     "name": "stdout",
     "output_type": "stream",
     "text": [
      "/Users/newcomputer/Library/CloudStorage/OneDrive-VNU-HCMUS/Thesis/NegCafe/source/Beauty_CAFE/CAFE\n"
     ]
    }
   ],
   "source": [
    "!pwd"
   ]
  },
  {
   "cell_type": "code",
   "execution_count": 30,
   "metadata": {},
   "outputs": [
    {
     "name": "stdout",
     "output_type": "stream",
     "text": [
      ">>> Load KG embeddings ...\n",
      ">>> user: (22363, 100)\n",
      ">>> product: (12101, 100)\n",
      ">>> word: (22564, 100)\n",
      ">>> brand: (2077, 100)\n",
      ">>> category: (248, 100)\n",
      ">>> related_product: (164721, 100)\n",
      "File is saved to \"/Users/newcomputer/Library/CloudStorage/OneDrive-VNU-HCMUS/Thesis/NegCafe/source/Beauty_CAFE/tmp/Beauty/embed.pkl\".\n",
      ">>> 224074 entities are loaded.\n",
      ">>> 16 relations are loaded.\n",
      ">>> 7832720 triples are loaded (including reverse edges).\n",
      ">>> 15 rules are loaded.\n",
      "File is saved to \"/Users/newcomputer/Library/CloudStorage/OneDrive-VNU-HCMUS/Thesis/NegCafe/source/Beauty_CAFE/tmp/Beauty/kg.pkl\".\n",
      "(22363, 100)\n",
      "File is saved to \"/Users/newcomputer/Library/CloudStorage/OneDrive-VNU-HCMUS/Thesis/NegCafe/source/Beauty_CAFE/tmp/Beauty/user_products_pos.npy\".\n",
      "100%|████████████████████████████████████| 22363/22363 [02:54<00:00, 127.83it/s]\n"
     ]
    }
   ],
   "source": [
    "!python preprocess.py --dataset 'beauty'"
   ]
  },
  {
   "cell_type": "code",
   "execution_count": 2,
   "metadata": {},
   "outputs": [],
   "source": [
    "dataloader = OnlinePathLoader('beauty', 128, topk=10)"
   ]
  },
  {
   "cell_type": "code",
   "execution_count": 10,
   "metadata": {},
   "outputs": [
    {
     "data": {
      "text/plain": [
       "16"
      ]
     },
     "execution_count": 10,
     "metadata": {},
     "output_type": "execute_result"
    }
   ],
   "source": [
    "len(dataloader.kg.relation_info)"
   ]
  },
  {
   "cell_type": "code",
   "execution_count": 12,
   "metadata": {},
   "outputs": [],
   "source": [
    "test = dataloader.get_batch()"
   ]
  },
  {
   "cell_type": "code",
   "execution_count": 18,
   "metadata": {},
   "outputs": [
    {
     "data": {
      "text/plain": [
       "(3,\n",
       " array([[ 19395,  10396,  38594,  12049],\n",
       "        [ 11382,   2500, 114467,  11581],\n",
       "        [  2235,   4929,   3131,   4541],\n",
       "        [ 17720,  10790,  41005,  10790],\n",
       "        [  4401,   4786,  23220,   3940],\n",
       "        [  4994,   8667,  19461,   9186],\n",
       "        [ 15523,  12033,   2702,  11673],\n",
       "        [ 15761,   3143,  23916,   5827],\n",
       "        [  3735,   5891,   5467,   1399],\n",
       "        [ 11859,   7620,   4907,   7620],\n",
       "        [  3031,   2051,  28743,   5326],\n",
       "        [ 10248,   7569,  48894,   1817],\n",
       "        [   237,  10334,  21869,   2100],\n",
       "        [ 22348,   6258,   2594,   1863],\n",
       "        [ 20880,   9219,  68884,   2158],\n",
       "        [  2736,   8356, 114467,   5738],\n",
       "        [ 13996,   8678,  14731,   3978],\n",
       "        [ 15153,   7161,  14405,   7161],\n",
       "        [  8767,   3748,   4811,  10933],\n",
       "        [ 21138,   3932,  36426,   3932],\n",
       "        [ 19456,  10684,   6024,   8653],\n",
       "        [  9226,    521,  51640,    427],\n",
       "        [ 12547,  11615,  22605,   5205],\n",
       "        [  7820,   1367,  40060,   5025],\n",
       "        [ 20854,   3697,  13872,   7018],\n",
       "        [ 15580,   2027,  42884,  11503],\n",
       "        [ 13717,   4342,  12975,   1133],\n",
       "        [ 13609,   4465,  55056,  11206],\n",
       "        [  3471,   7018,  68863,  11138],\n",
       "        [ 10921,   5282,   2702,  10882],\n",
       "        [ 10199,   7174,  53555,   7174],\n",
       "        [  6380,   1357,  28242,   5324],\n",
       "        [  4397,   7942,  26998,   4341],\n",
       "        [  3168,   2687,     81,  11934],\n",
       "        [  7009,   6529,  11723,   2879],\n",
       "        [ 20475,   2337,  14736,   6820],\n",
       "        [ 16932,   3975,  34870,  11798],\n",
       "        [  1352,  10542,   3475,   5522],\n",
       "        [ 18606,   9801,  57376,   3084],\n",
       "        [   774,    736,  19851,   7408],\n",
       "        [ 15660,    793,    219,   6314],\n",
       "        [ 10043,  12067,  27293,   1706],\n",
       "        [  1361,   3126,  62356,    291],\n",
       "        [  5321,   4817,  27951,   4817],\n",
       "        [  7087,   5792,   1944,  10933],\n",
       "        [ 17233,    483,  28696,    483],\n",
       "        [  1747,   7666,  21875,   4478],\n",
       "        [ 20575,   9510,  25437,  10016],\n",
       "        [  6130,   2670,   2552,   2670],\n",
       "        [  5409,   6943,  18685,   3272],\n",
       "        [  6605,   2840,  47743,   5368],\n",
       "        [ 15242,   5827,   3913,   7114],\n",
       "        [   414,   5377,   5695,   6343],\n",
       "        [ 18863,   5073,  40140,   5073],\n",
       "        [  8492,   7045,     51,   2854],\n",
       "        [ 14001,   2149,  41005,   2149],\n",
       "        [   342,  10882,   6627,   9810],\n",
       "        [   796,  12024,   5174,  10206],\n",
       "        [ 13735,    294,  29607,    294],\n",
       "        [ 20008,  11273,    219,   5588],\n",
       "        [  6474,  11617, 114949,   4114],\n",
       "        [   575,  10314,  56097,   3084],\n",
       "        [  4363,   1888,  53996,   1888],\n",
       "        [ 19300,   5708,   3753,   5708],\n",
       "        [ 16792,  10893,   4781,   4837],\n",
       "        [  4757,    707,   1287,   7711],\n",
       "        [  1323,   6695,  38193,   5622],\n",
       "        [ 18595,   2094,  10617,   1101],\n",
       "        [ 13927,  10971,  16408,   9708],\n",
       "        [  8388,   9591,   4788,   8380],\n",
       "        [ 21509,   5827,   3640,    863],\n",
       "        [ 14277,    535,  55029,   6141],\n",
       "        [ 15960,   3050,   2129,  12077],\n",
       "        [  3071,   9582,   2270,   1879],\n",
       "        [ 12639,   3291,   4871,   3291],\n",
       "        [ 14973,   1885,  10035,   1885],\n",
       "        [ 10766,  11364,  13229,  11866],\n",
       "        [ 15206,   9423,  13511,  11908],\n",
       "        [ 18255,    766,  60452,    766],\n",
       "        [ 10673,   5021,  49819,   2136],\n",
       "        [  7792,   5603,  80324,   5603],\n",
       "        [ 17139,   2872,  15830,   4954],\n",
       "        [ 19163,   9030,  13899,   6912],\n",
       "        [  2312,  11798,  70690,   9389],\n",
       "        [  5877,   8312,  41107,   8312],\n",
       "        [ 16600,  10972,  10480,   1216],\n",
       "        [  5770,   6209, 119381,  11623],\n",
       "        [  4731,  11752,  24887,  11752],\n",
       "        [  1016,   1486,   1891,   5071],\n",
       "        [ 18689,   4103,  27172,   5264],\n",
       "        [ 21049,    991,  39327,   1863],\n",
       "        [ 18027,   3025,  79726,   2268],\n",
       "        [  6315,   8292,  48238,   4763],\n",
       "        [ 13143,   6455,   5147,  10482],\n",
       "        [ 16530,   5013,    811,   1096],\n",
       "        [ 14372,    711,  23642,  10596],\n",
       "        [  3645,  10973,   4847,   6912],\n",
       "        [ 22240,  10212,  15503,  10212],\n",
       "        [  7642,   5410, 107500,   5410],\n",
       "        [  1768,   3050,   1933,   3050],\n",
       "        [ 14914,   4177,  10156,   4177],\n",
       "        [ 14144,  12051,  41039,  12051],\n",
       "        [ 19889,   2449,  26479,  10846],\n",
       "        [ 19999,   4034,  14393,   6015],\n",
       "        [  5667,   6139,  72301,   2083],\n",
       "        [  3968,   8592,  62679,   6455],\n",
       "        [  2220,  10495,  62181,   9166],\n",
       "        [   308,   5034,  20823,   1443],\n",
       "        [ 20233,   7460,  56944,   1990],\n",
       "        [ 19847,   5620,   9175,   8009],\n",
       "        [ 17273,   2130,   9405,   2130],\n",
       "        [    80,   1593, 104698,  10228],\n",
       "        [  6062,   1322,  50548,   1322],\n",
       "        [ 12925,   6114,   9721,   6367],\n",
       "        [ 19402,  10731,    800,  10731],\n",
       "        [ 12473,   7018,  87822,    906],\n",
       "        [  4369,   8524,   5337,   6151],\n",
       "        [  2163,  11195,  33894,   4642],\n",
       "        [ 11740,   4916,  15284,   2127],\n",
       "        [ 21458,   5384,   6015,   5281],\n",
       "        [    92,    783,  14837,  10846],\n",
       "        [ 16650,   6242,  15999,   8505],\n",
       "        [ 21533,  11067,  68852,  11067],\n",
       "        [  3028,   5688,  68865,   2158],\n",
       "        [ 22329,   6258,  11814,  11403],\n",
       "        [ 20818,    972,  19721,    972],\n",
       "        [ 11409,   7407,   7359,   6523],\n",
       "        [ 15184,   9034,  15830,   7317]]),\n",
       " array([ 1492,  5623,  1253,  1301, 11159,  7709, 11170,   645,  2726,\n",
       "         1863,  4341,  1823,  3665,  7813,  1343,  6587,  4454,  8143,\n",
       "         7746,  4512,   644, 10508,  2955,  4009, 11233,  7602,  2893,\n",
       "         8656,  6341, 10434,  9356, 11028,  9668,  5590,  4136, 11761,\n",
       "         3084,  1681,  4281,  9673,  1797,  9661,  3978,  8367,  7072,\n",
       "         8876,  5924,  5480, 10261,  6249,  3508,   173,  1120,   287,\n",
       "        11488,  2726,  9965, 12024,  7078, 10833,  3586,  7018,  8896,\n",
       "         8367,  4858,  8117,  6427, 11094,  7178,  4192,  1826,   535,\n",
       "          553,  8344,  4437, 10649,   923,  4322,  9077,   813,  9986,\n",
       "         2970,  2313,  3125,  5489,  8891,  9810,  6695,  1996,  5103,\n",
       "         3280,   790,  1210,  6276, 10933,  4013,  2715,  6748,  4165,\n",
       "         8038,  4325,  3750, 11792,  5384,  6190,  9370,  8384,  9446,\n",
       "         9413, 11139, 10882,  5829,  4295,  9247, 10619,  3084, 11985,\n",
       "         7810,  1378, 10267,   210, 10881,  8972,  1343,  5603,  2630,\n",
       "         1723,  2219]))"
      ]
     },
     "execution_count": 18,
     "metadata": {},
     "output_type": "execute_result"
    }
   ],
   "source": [
    "test"
   ]
  },
  {
   "cell_type": "code",
   "execution_count": 20,
   "metadata": {},
   "outputs": [
    {
     "data": {
      "text/plain": [
       "[[19395, 10396, 4985, 12049]]"
      ]
     },
     "execution_count": 20,
     "metadata": {},
     "output_type": "execute_result"
    }
   ],
   "source": [
    "# bước mất thời gian: dataloader.kg.fast_sample_path_with_target(3, 19395, 12049, 1)"
   ]
  },
  {
   "cell_type": "code",
   "execution_count": null,
   "metadata": {},
   "outputs": [],
   "source": []
  }
 ],
 "metadata": {
  "kernelspec": {
   "display_name": "thesis_venv",
   "language": "python",
   "name": "thesis_venv"
  },
  "language_info": {
   "codemirror_mode": {
    "name": "ipython",
    "version": 3
   },
   "file_extension": ".py",
   "mimetype": "text/x-python",
   "name": "python",
   "nbconvert_exporter": "python",
   "pygments_lexer": "ipython3",
   "version": "3.11.6"
  }
 },
 "nbformat": 4,
 "nbformat_minor": 2
}
